{
 "cells": [
  {
   "cell_type": "markdown",
   "metadata": {},
   "source": [
    "# n-制御NOTゲート\n",
    "\n",
    "input: c[:n]\n",
    "\n",
    "output: c[n]\n",
    "\n",
    "ancilla: c[n+1:]"
   ]
  },
  {
   "cell_type": "code",
   "execution_count": 1,
   "metadata": {},
   "outputs": [],
   "source": [
    "from blueqat import Circuit"
   ]
  },
  {
   "cell_type": "code",
   "execution_count": 2,
   "metadata": {},
   "outputs": [],
   "source": [
    "def CCCX(n, c):\n",
    "    c = c.ccx[0, 1, n + 1]\n",
    "    for i in range(0, n - 3):\n",
    "        c = c.ccx[i + 2, n + 1 + i, n + 1 + i + 1]\n",
    "    c = c.ccx[n - 1, n + 1 + (n - 2) - 1, n]\n",
    "    return c"
   ]
  },
  {
   "cell_type": "code",
   "execution_count": 3,
   "metadata": {},
   "outputs": [
    {
     "data": {
      "text/plain": [
       "Counter({'00100': 21,\n",
       "         '00000': 10,\n",
       "         '11001': 15,\n",
       "         '11111': 11,\n",
       "         '10100': 16,\n",
       "         '01100': 11,\n",
       "         '01000': 7,\n",
       "         '10000': 9})"
      ]
     },
     "execution_count": 3,
     "metadata": {},
     "output_type": "execute_result"
    }
   ],
   "source": [
    "CCCX(3, Circuit().h[:3]).m[:].run(shots=100)"
   ]
  },
  {
   "cell_type": "code",
   "execution_count": 4,
   "metadata": {},
   "outputs": [
    {
     "data": {
      "text/plain": [
       "Counter({'1111111': 6,\n",
       "         '1100010': 9,\n",
       "         '1010000': 6,\n",
       "         '0000000': 5,\n",
       "         '0100000': 7,\n",
       "         '1011000': 4,\n",
       "         '1101010': 7,\n",
       "         '0111000': 4,\n",
       "         '1001000': 9,\n",
       "         '0110000': 5,\n",
       "         '0101000': 7,\n",
       "         '0010000': 7,\n",
       "         '1110011': 10,\n",
       "         '1000000': 7,\n",
       "         '0011000': 4,\n",
       "         '0001000': 3})"
      ]
     },
     "execution_count": 4,
     "metadata": {},
     "output_type": "execute_result"
    }
   ],
   "source": [
    "CCCX(4, Circuit().h[:4]).m[:].run(shots=100)"
   ]
  },
  {
   "cell_type": "code",
   "execution_count": 5,
   "metadata": {},
   "outputs": [
    {
     "data": {
      "text/plain": [
       "Counter({'110110100': 28,\n",
       "         '110000100': 27,\n",
       "         '001110000': 36,\n",
       "         '111100111': 31,\n",
       "         '001000000': 37,\n",
       "         '010010000': 36,\n",
       "         '000110000': 39,\n",
       "         '101110000': 45,\n",
       "         '111010110': 28,\n",
       "         '000100000': 26,\n",
       "         '100100000': 41,\n",
       "         '100010000': 23,\n",
       "         '011110000': 36,\n",
       "         '010000000': 36,\n",
       "         '010110000': 28,\n",
       "         '100110000': 31,\n",
       "         '011010000': 28,\n",
       "         '110100100': 25,\n",
       "         '011000000': 30,\n",
       "         '100000000': 28,\n",
       "         '101100000': 28,\n",
       "         '001010000': 31,\n",
       "         '000010000': 32,\n",
       "         '101000000': 24,\n",
       "         '010100000': 24,\n",
       "         '111000110': 36,\n",
       "         '000000000': 40,\n",
       "         '110010100': 22,\n",
       "         '111111111': 30,\n",
       "         '001100000': 39,\n",
       "         '101010000': 30,\n",
       "         '011100000': 25})"
      ]
     },
     "execution_count": 5,
     "metadata": {},
     "output_type": "execute_result"
    }
   ],
   "source": [
    "CCCX(5, Circuit().h[:5]).m[:].run(shots=1000)"
   ]
  }
 ],
 "metadata": {
  "kernelspec": {
   "display_name": "Python 3",
   "language": "python",
   "name": "python3"
  },
  "language_info": {
   "codemirror_mode": {
    "name": "ipython",
    "version": 3
   },
   "file_extension": ".py",
   "mimetype": "text/x-python",
   "name": "python",
   "nbconvert_exporter": "python",
   "pygments_lexer": "ipython3",
   "version": "3.7.2"
  }
 },
 "nbformat": 4,
 "nbformat_minor": 2
}
