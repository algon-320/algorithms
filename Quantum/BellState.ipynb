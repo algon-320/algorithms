{
 "cells": [
  {
   "cell_type": "markdown",
   "metadata": {},
   "source": [
    "# Bell状態"
   ]
  },
  {
   "cell_type": "code",
   "execution_count": 1,
   "metadata": {},
   "outputs": [],
   "source": [
    "from blueqat import Circuit"
   ]
  },
  {
   "cell_type": "code",
   "execution_count": 2,
   "metadata": {},
   "outputs": [],
   "source": [
    "b0 = Circuit().h[0].cx[0, 1]\n",
    "b1 = Circuit().x[0].h[0].cx[0, 1]\n",
    "b2 = Circuit().x[1].h[0].cx[0, 1]\n",
    "b3 = Circuit().x[:].h[0].cx[0, 1]"
   ]
  },
  {
   "cell_type": "code",
   "execution_count": 3,
   "metadata": {
    "scrolled": true
   },
   "outputs": [
    {
     "name": "stdout",
     "output_type": "stream",
     "text": [
      "[0.70710678+0.j 0.        +0.j 0.        +0.j 0.70710678+0.j]\n",
      "[ 0.70710678+0.j  0.        +0.j  0.        +0.j -0.70710678+0.j]\n",
      "[0.        +0.j 0.70710678+0.j 0.70710678+0.j 0.        +0.j]\n",
      "[ 0.        -0.j  0.70710678+0.j -0.70710678-0.j  0.        -0.j]\n"
     ]
    }
   ],
   "source": [
    "print(b0.run())\n",
    "print(b1.run())\n",
    "print(b2.run())\n",
    "print(b3.run())"
   ]
  },
  {
   "cell_type": "markdown",
   "metadata": {},
   "source": [
    "## 判別"
   ]
  },
  {
   "cell_type": "code",
   "execution_count": 4,
   "metadata": {},
   "outputs": [],
   "source": [
    "def distinguish(c):\n",
    "    res = c.cx[0, 1].h[0].m[:].run(shots=1)\n",
    "    if res['00']:\n",
    "        print(0)\n",
    "    elif res['10']:\n",
    "        print(1)\n",
    "    elif res['01']:\n",
    "        print(2)\n",
    "    elif res['11']:\n",
    "        print(3)"
   ]
  },
  {
   "cell_type": "code",
   "execution_count": 5,
   "metadata": {},
   "outputs": [
    {
     "name": "stdout",
     "output_type": "stream",
     "text": [
      "0\n",
      "1\n",
      "2\n",
      "3\n"
     ]
    }
   ],
   "source": [
    "distinguish(b0)\n",
    "distinguish(b1)\n",
    "distinguish(b2)\n",
    "distinguish(b3)"
   ]
  }
 ],
 "metadata": {
  "kernelspec": {
   "display_name": "Python 3",
   "language": "python",
   "name": "python3"
  },
  "language_info": {
   "codemirror_mode": {
    "name": "ipython",
    "version": 3
   },
   "file_extension": ".py",
   "mimetype": "text/x-python",
   "name": "python",
   "nbconvert_exporter": "python",
   "pygments_lexer": "ipython3",
   "version": "3.7.2"
  }
 },
 "nbformat": 4,
 "nbformat_minor": 2
}
