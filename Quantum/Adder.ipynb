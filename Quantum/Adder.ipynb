{
 "cells": [
  {
   "cell_type": "markdown",
   "metadata": {},
   "source": [
    "## 加算器\n",
    "0bit目 + 1bit目 = 3bit目2bit目"
   ]
  },
  {
   "cell_type": "code",
   "execution_count": 1,
   "metadata": {},
   "outputs": [],
   "source": [
    "from blueqat import Circuit"
   ]
  },
  {
   "cell_type": "code",
   "execution_count": 2,
   "metadata": {},
   "outputs": [],
   "source": [
    "adder = Circuit().ccx[0,1,3].cx[1,2].cx[0,2]"
   ]
  },
  {
   "cell_type": "code",
   "execution_count": 3,
   "metadata": {},
   "outputs": [
    {
     "data": {
      "text/plain": [
       "Counter({'0000': 1})"
      ]
     },
     "execution_count": 3,
     "metadata": {},
     "output_type": "execute_result"
    }
   ],
   "source": [
    "(Circuit() + adder).m[:].run(shots=1)"
   ]
  },
  {
   "cell_type": "code",
   "execution_count": 4,
   "metadata": {},
   "outputs": [
    {
     "name": "stdout",
     "output_type": "stream",
     "text": [
      "0 0 Counter({'0000': 1})\n",
      "0 1 Counter({'0110': 1})\n",
      "1 0 Counter({'1010': 1})\n",
      "1 1 Counter({'1101': 1})\n"
     ]
    }
   ],
   "source": [
    "for a in range(2): \n",
    "    for b in range(2):\n",
    "        c = Circuit()\n",
    "        if a: \n",
    "            c = c.x[0]\n",
    "        if b: \n",
    "            c = c.x[1]\n",
    "        c += adder\n",
    "        print(a, b, c.m[:].run(shots=1))"
   ]
  },
  {
   "cell_type": "code",
   "execution_count": null,
   "metadata": {},
   "outputs": [],
   "source": []
  }
 ],
 "metadata": {
  "kernelspec": {
   "display_name": "Python 3",
   "language": "python",
   "name": "python3"
  },
  "language_info": {
   "codemirror_mode": {
    "name": "ipython",
    "version": 3
   },
   "file_extension": ".py",
   "mimetype": "text/x-python",
   "name": "python",
   "nbconvert_exporter": "python",
   "pygments_lexer": "ipython3",
   "version": "3.7.0"
  }
 },
 "nbformat": 4,
 "nbformat_minor": 2
}
