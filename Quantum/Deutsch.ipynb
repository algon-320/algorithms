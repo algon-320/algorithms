{
 "cells": [
  {
   "cell_type": "markdown",
   "metadata": {},
   "source": [
    "# Deutschのアルゴリズム\n",
    "f(0) = f(1) かどうか"
   ]
  },
  {
   "cell_type": "code",
   "execution_count": 1,
   "metadata": {},
   "outputs": [],
   "source": [
    "from blueqat import Circuit"
   ]
  },
  {
   "cell_type": "code",
   "execution_count": 2,
   "metadata": {},
   "outputs": [],
   "source": [
    "def constant0(c):\n",
    "    return c\n",
    "\n",
    "\n",
    "def constant1(c):\n",
    "    return c.x[1]\n",
    "\n",
    "\n",
    "def balance0(c):\n",
    "    return c.cx[0, 1]\n",
    "\n",
    "\n",
    "def balance1(c):\n",
    "    return c.cx[0, 1].x[1]"
   ]
  },
  {
   "cell_type": "code",
   "execution_count": 3,
   "metadata": {},
   "outputs": [],
   "source": [
    "def distinguish(oracle):\n",
    "    c = Circuit().x[1].h[:]\n",
    "    res = oracle(c).h[0].m[0].run(shots=1)\n",
    "    if res['00']:\n",
    "        print(\"constant\")\n",
    "    elif res['10']:\n",
    "        print(\"balance\")"
   ]
  },
  {
   "cell_type": "code",
   "execution_count": 4,
   "metadata": {},
   "outputs": [
    {
     "name": "stdout",
     "output_type": "stream",
     "text": [
      "constant\n",
      "constant\n",
      "balance\n",
      "balance\n"
     ]
    }
   ],
   "source": [
    "distinguish(constant0)\n",
    "distinguish(constant1)\n",
    "distinguish(balance0)\n",
    "distinguish(balance1)"
   ]
  }
 ],
 "metadata": {
  "kernelspec": {
   "display_name": "Python 3",
   "language": "python",
   "name": "python3"
  },
  "language_info": {
   "codemirror_mode": {
    "name": "ipython",
    "version": 3
   },
   "file_extension": ".py",
   "mimetype": "text/x-python",
   "name": "python",
   "nbconvert_exporter": "python",
   "pygments_lexer": "ipython3",
   "version": "3.7.2"
  }
 },
 "nbformat": 4,
 "nbformat_minor": 2
}
