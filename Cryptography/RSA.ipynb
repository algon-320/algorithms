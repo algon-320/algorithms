{
 "cells": [
  {
   "cell_type": "markdown",
   "metadata": {},
   "source": [
    "# RSA\n",
    "## 鍵生成\n",
    "### 素数生成"
   ]
  },
  {
   "cell_type": "code",
   "execution_count": 13,
   "metadata": {},
   "outputs": [],
   "source": [
    "import random\n",
    "def gen_prime(n):\n",
    "    x = random.randint(pow(2, n), pow(2, n + 1))\n",
    "    if x % 2 == 0:\n",
    "        x += 1\n",
    "    while miller_rabin_primality_test(x, 10) == False:\n",
    "        x += 2\n",
    "    return x\n",
    "        "
   ]
  },
  {
   "cell_type": "code",
   "execution_count": 15,
   "metadata": {},
   "outputs": [],
   "source": [
    "def miller_rabin_primality_test(x, iteration):\n",
    "    if x < 2:\n",
    "        return False\n",
    "    if x != 2 and x % 2 == 0:\n",
    "        return False\n",
    "    s = x - 1\n",
    "    while s % 2 == 0:\n",
    "        s //= 2\n",
    "    for i in range(iteration):\n",
    "        a = random.randint(1, x - 1)\n",
    "        tmp = s\n",
    "        mod = pow(a, tmp, x)\n",
    "        while tmp != x - 1 and mod != 1 and mod != x - 1:\n",
    "            mod = (mod * mod) % x\n",
    "            tmp *= 2\n",
    "        if mod != x - 1 and tmp % 2 == 0:\n",
    "            return False\n",
    "    return True"
   ]
  },
  {
   "cell_type": "code",
   "execution_count": 54,
   "metadata": {},
   "outputs": [],
   "source": [
    "p = gen_prime(100)\n",
    "q = gen_prime(100)"
   ]
  },
  {
   "cell_type": "code",
   "execution_count": 55,
   "metadata": {},
   "outputs": [],
   "source": [
    "n = p * q"
   ]
  },
  {
   "cell_type": "code",
   "execution_count": 56,
   "metadata": {},
   "outputs": [],
   "source": [
    "phi = (p - 1) * (q - 1)"
   ]
  },
  {
   "cell_type": "code",
   "execution_count": 60,
   "metadata": {},
   "outputs": [],
   "source": [
    "def extgcd(a, b):\n",
    "    g = a\n",
    "    x = 1\n",
    "    y = 0\n",
    "    if b != 0:\n",
    "        g, y, x = extgcd(b, a % b)\n",
    "        y -= (a // b) * x\n",
    "    return (g, x, y)"
   ]
  },
  {
   "cell_type": "code",
   "execution_count": 61,
   "metadata": {},
   "outputs": [],
   "source": [
    "def modinv(x, m):\n",
    "    g, y, n = extgcd(x, m)\n",
    "    return (y + m) % m"
   ]
  },
  {
   "cell_type": "code",
   "execution_count": 62,
   "metadata": {},
   "outputs": [],
   "source": [
    "e = 65537\n",
    "d = modinv(e, phi)"
   ]
  },
  {
   "cell_type": "code",
   "execution_count": 63,
   "metadata": {},
   "outputs": [
    {
     "name": "stdout",
     "output_type": "stream",
     "text": [
      "pk := (e,n) = (65537,2233428232400409691057942277443666084773932030541874825419587)\n",
      "sk := d = 1718189490229394934216691849550684676608282322894186514163633\n"
     ]
    }
   ],
   "source": [
    "print(f'pk := (e,n) = ({e},{n})')\n",
    "print(f'sk := d = {d}')"
   ]
  },
  {
   "cell_type": "markdown",
   "metadata": {},
   "source": [
    "## 暗号化"
   ]
  },
  {
   "cell_type": "code",
   "execution_count": 64,
   "metadata": {},
   "outputs": [
    {
     "name": "stdout",
     "output_type": "stream",
     "text": [
      "1128174308654783490419914013122143285947836101977172994480785\n"
     ]
    }
   ],
   "source": [
    "m = 1234567890\n",
    "c = pow(m,e,n)\n",
    "print(c)"
   ]
  },
  {
   "cell_type": "markdown",
   "metadata": {},
   "source": [
    "## 復号"
   ]
  },
  {
   "cell_type": "code",
   "execution_count": 65,
   "metadata": {},
   "outputs": [
    {
     "name": "stdout",
     "output_type": "stream",
     "text": [
      "1234567890\n"
     ]
    }
   ],
   "source": [
    "m_ = pow(c,d,n)\n",
    "print(m_)"
   ]
  }
 ],
 "metadata": {
  "kernelspec": {
   "display_name": "Python 3",
   "language": "python",
   "name": "python3"
  },
  "language_info": {
   "codemirror_mode": {
    "name": "ipython",
    "version": 3
   },
   "file_extension": ".py",
   "mimetype": "text/x-python",
   "name": "python",
   "nbconvert_exporter": "python",
   "pygments_lexer": "ipython3",
   "version": "3.7.2"
  }
 },
 "nbformat": 4,
 "nbformat_minor": 2
}
