{
 "cells": [
  {
   "cell_type": "markdown",
   "metadata": {},
   "source": [
    "# ElGamal暗号\n",
    "## 鍵生成"
   ]
  },
  {
   "cell_type": "code",
   "execution_count": 1,
   "metadata": {},
   "outputs": [],
   "source": [
    "import random\n",
    "\n",
    "\n",
    "def gen_prime_for_elgamal(n):\n",
    "    p = random.randint(pow(2, n), pow(2, n + 1))\n",
    "    if p % 2 == 0:\n",
    "        p += 1\n",
    "    while not miller_rabin_primality_test(p, 10) or not miller_rabin_primality_test(2 * p + 1, 10):\n",
    "        p += 2\n",
    "    return 2 * p + 1\n",
    "\n",
    "\n",
    "def miller_rabin_primality_test(x, iteration):\n",
    "    if x < 2:\n",
    "        return False\n",
    "    if x != 2 and x % 2 == 0:\n",
    "        return False\n",
    "    s = x - 1\n",
    "    while s % 2 == 0:\n",
    "        s //= 2\n",
    "    for i in range(iteration):\n",
    "        a = random.randint(1, x - 1)\n",
    "        tmp = s\n",
    "        mod = pow(a, tmp, x)\n",
    "        while tmp != x - 1 and mod != 1 and mod != x - 1:\n",
    "            mod = (mod * mod) % x\n",
    "            tmp *= 2\n",
    "        if mod != x - 1 and tmp % 2 == 0:\n",
    "            return False\n",
    "    return True"
   ]
  },
  {
   "cell_type": "code",
   "execution_count": 2,
   "metadata": {},
   "outputs": [
    {
     "name": "stdout",
     "output_type": "stream",
     "text": [
      "929291361303778979345372162752213185659\n"
     ]
    }
   ],
   "source": [
    "q = gen_prime_for_elgamal(128)\n",
    "print(q)"
   ]
  },
  {
   "cell_type": "code",
   "execution_count": 3,
   "metadata": {},
   "outputs": [],
   "source": [
    "def find_generator(q):\n",
    "    if q == 2:\n",
    "        return 1\n",
    "    p1 = 2\n",
    "    p2 = (q - 1) // p1  # p\n",
    "    while True:\n",
    "        g = random.randint(2, q - 1)\n",
    "        if pow(g, (q - 1) // p1, q) != 1 and pow(g, (q - 1) // p2, q) != 1:\n",
    "            return g"
   ]
  },
  {
   "cell_type": "code",
   "execution_count": 4,
   "metadata": {},
   "outputs": [],
   "source": [
    "g = find_generator(q)"
   ]
  },
  {
   "cell_type": "code",
   "execution_count": 5,
   "metadata": {},
   "outputs": [],
   "source": [
    "x = random.randint(1, q-1)"
   ]
  },
  {
   "cell_type": "code",
   "execution_count": 6,
   "metadata": {},
   "outputs": [],
   "source": [
    "h = pow(g, x, q)"
   ]
  },
  {
   "cell_type": "markdown",
   "metadata": {},
   "source": [
    "pk := (G,q,g,h)\n",
    "\n",
    "sk := x"
   ]
  },
  {
   "cell_type": "markdown",
   "metadata": {},
   "source": [
    "## 暗号化\n",
    "平文 m"
   ]
  },
  {
   "cell_type": "code",
   "execution_count": 7,
   "metadata": {},
   "outputs": [],
   "source": [
    "y = random.randint(1, q-1)\n",
    "c1 = pow(g, y, q)"
   ]
  },
  {
   "cell_type": "code",
   "execution_count": 8,
   "metadata": {},
   "outputs": [
    {
     "name": "stdout",
     "output_type": "stream",
     "text": [
      "529520829942064503345453430673818209849 725687722030960813489745013117976885758\n"
     ]
    }
   ],
   "source": [
    "m = 1234567890\n",
    "c2 = (m * pow(h, y, q)) % q\n",
    "print(c1, c2)"
   ]
  },
  {
   "cell_type": "markdown",
   "metadata": {},
   "source": [
    "## 復号\n",
    "暗号文 (c1,c2)"
   ]
  },
  {
   "cell_type": "code",
   "execution_count": 10,
   "metadata": {},
   "outputs": [
    {
     "name": "stdout",
     "output_type": "stream",
     "text": [
      "1234567890\n"
     ]
    }
   ],
   "source": [
    "m_ = (c2 * pow(c1, q-1-x, q)) % q\n",
    "print(m_)"
   ]
  }
 ],
 "metadata": {
  "kernelspec": {
   "display_name": "Python 3",
   "language": "python",
   "name": "python3"
  },
  "language_info": {
   "codemirror_mode": {
    "name": "ipython",
    "version": 3
   },
   "file_extension": ".py",
   "mimetype": "text/x-python",
   "name": "python",
   "nbconvert_exporter": "python",
   "pygments_lexer": "ipython3",
   "version": "3.7.2"
  }
 },
 "nbformat": 4,
 "nbformat_minor": 2
}
